{
 "cells": [
  {
   "cell_type": "code",
   "execution_count": null,
   "metadata": {},
   "outputs": [],
   "source": [
    "#Use Remote Sensing Data to Understand Fire Impacts\n",
    "    #Since remote sensing data are collected over time, they can be used to, among other things:\n",
    "        #Track changes in vegetation.\n",
    "        #Understand the area and intensity of fires.\n",
    "        #Monitor the post-fire vegetation dynamics of burned areas.\n",
    "\n",
    "#Vegetation indices can be useful tools for quantifying and visualizing the \n",
    "    #before and after effects of wildfire. Two indices that are used are:\n",
    "        #Normalized Difference Vegetation Index (NDVI)\n",
    "        #Normalized Burn Ratio (NBR)\n",
    "\n",
    "#Four primary sources of remote sensing data that can be used to study wildfire:\n",
    "    #NAIP\n",
    "    #MODIS\n",
    "    #Landsat\n",
    "    #Sentinel\n"
   ]
  }
 ],
 "metadata": {
  "language_info": {
   "name": "python"
  }
 },
 "nbformat": 4,
 "nbformat_minor": 2
}
