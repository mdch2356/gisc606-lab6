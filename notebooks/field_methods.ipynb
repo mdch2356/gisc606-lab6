{
 "cells": [
  {
   "cell_type": "code",
   "execution_count": null,
   "metadata": {},
   "outputs": [],
   "source": [
    "#How Scientists Study Fire\n",
    "    #Field surveys: Humans taking manual measurements of vegetation loss and soil characteristics at a fire site.\n",
    "    #Remote sensing: Data from satellites, unmanned aerial vehicles (UAVs), and planes can be used to to calculate \n",
    "        #quantitative metrics. This can include burn severity, changes before versus after the burn in vegetation, \n",
    "        #and differences between the burn site and areas around it that did not burn. This data can also be used \n",
    "        #to monitor ecosystem recovery.\n",
    "\n",
    "# There is significant effort to study fire, in order to, among other things:\n",
    "    #Predict future fire behaviour (and potentially save lives and minimize evacuation efforts).\n",
    "    #Understand how humans impact fire intensity and frequency over time.\n",
    "    #Understand how fire is impacted by climate.\n"
   ]
  }
 ],
 "metadata": {
  "language_info": {
   "name": "python"
  }
 },
 "nbformat": 4,
 "nbformat_minor": 2
}
