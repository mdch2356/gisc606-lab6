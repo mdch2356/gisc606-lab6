{
 "cells": [
  {
   "cell_type": "code",
   "execution_count": null,
   "metadata": {},
   "outputs": [],
   "source": [
    "#What Causes Wildfires?\n",
    "    #Wildfires can occur naturally or be triggered by humans.\n",
    "    #The most common causes of human-induced fires are \n",
    "        #intentional acts of arson, campfires, debris burning, and discarded cigarettes.\n",
    "    #Humans also increase the prevalence of wildfires \n",
    "        #indirectly through climate change. Warmer, drier conditions from climate change lead to drought.\n",
    "\n",
    "#In conclusion, human bad."
   ]
  }
 ],
 "metadata": {
  "language_info": {
   "name": "python"
  }
 },
 "nbformat": 4,
 "nbformat_minor": 2
}
