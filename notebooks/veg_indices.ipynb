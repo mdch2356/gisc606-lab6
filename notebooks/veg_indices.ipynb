{
 "cells": [
  {
   "cell_type": "code",
   "execution_count": null,
   "metadata": {},
   "outputs": [],
   "source": [
    "#About Vegetation Indices\n",
    "    #A vegetation index is a single value that quantifies vegetation health or structure. \n",
    "\n",
    "#Normalized Difference Vegetation Index (NDVI)\n",
    "    #The Normalized Difference Vegetation Index (NDVI) is a quantitative index of greenness \n",
    "        #ranging from 0-1 where 0 represents minimal or no greenness and 1 represents maximum greenness.\n",
    "#Normalized Burn Ratio (NBR)\n",
    "    #The Normalized burn ratio (NBR) is used to identify burned areas. The formula is similar to a \n",
    "        #normalized difference vegetation index (NDVI), except that it uses near-infrared (NIR) and \n",
    "        #shortwave-infrared (SWIR) portions of the electromagnetic spectrum.\n",
    "#NBR Bands\n",
    "    #The NBR index was originally developed for use with Landsat TM and ETM+ bands 4 and 7, but it \n",
    "        #will work with any multispectral sensor with a NIR band between 760 - 900 nm and a SWIR band \n",
    "        #between 2080 - 2350 nm. Thus this index can be used with both Landsat 8, MODIS and other multi \n",
    "        #(and hyper) spectral sensors.\n",
    "#Difference NBR\n",
    "    #The Normalized Burn Ratio is most powerful as a tool to better understand fire extent and severity \n",
    "        #when used after calculating the difference between pre and post fire conditions. This difference \n",
    "        #is best measured using data collected immediately before the fire and then immediately after the fire. "
   ]
  }
 ],
 "metadata": {
  "language_info": {
   "name": "python"
  }
 },
 "nbformat": 4,
 "nbformat_minor": 2
}
