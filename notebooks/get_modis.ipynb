{
 "cells": [
  {
   "cell_type": "code",
   "execution_count": null,
   "metadata": {},
   "outputs": [],
   "source": [
    "#How to Download MODIS data\n",
    "    #Step 1: Define Your Study Area (AOI)\n",
    "    #Step 2: Define the Data That You Want to Download\n",
    "    #Step 3: Define Selection Criteria\n",
    "    #Step 4: View Results & Select Data to Order / Download\n",
    "    #Step 5: Download Your Data\n"
   ]
  }
 ],
 "metadata": {
  "language_info": {
   "name": "python"
  }
 },
 "nbformat": 4,
 "nbformat_minor": 2
}
